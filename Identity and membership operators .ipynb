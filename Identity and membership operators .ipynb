{
 "cells": [
  {
   "cell_type": "code",
   "execution_count": 1,
   "id": "2fdd644c-005c-4f7d-80a6-e929e950792e",
   "metadata": {},
   "outputs": [
    {
     "name": "stdout",
     "output_type": "stream",
     "text": [
      "True\n",
      "True\n",
      "False\n"
     ]
    }
   ],
   "source": [
    "x1=89\n",
    "x2=89\n",
    "y1=\"Virat kohli\"\n",
    "y2=\"virat\"\n",
    "print(x1 is x2)\n",
    "print(x2 is not y1)\n",
    "print(y1 is y2)"
   ]
  },
  {
   "cell_type": "code",
   "execution_count": 2,
   "id": "382d2277-97c1-40f5-a9d1-4b5176c61a47",
   "metadata": {},
   "outputs": [
    {
     "name": "stdout",
     "output_type": "stream",
     "text": [
      "False\n",
      "True\n",
      "False\n"
     ]
    }
   ],
   "source": [
    "x1=14\n",
    "x2=24\n",
    "y1=\"Audi\"\n",
    "y2=\"tesla\"\n",
    "print(x1 is x2)\n",
    "print(x2 is not y1)\n",
    "print(y1 is y2)"
   ]
  },
  {
   "cell_type": "code",
   "execution_count": 3,
   "id": "4d0f0862-305d-4697-bc39-03a274f3c4ad",
   "metadata": {},
   "outputs": [
    {
     "name": "stdout",
     "output_type": "stream",
     "text": [
      "True\n",
      "True\n",
      "False\n"
     ]
    }
   ],
   "source": [
    "x1=0\n",
    "x2=0\n",
    "y1=\"Honey bee\"\n",
    "y2=\"Honey\"\n",
    "print(x1 is x2)\n",
    "print(x2 is not y1)\n",
    "print(y1 is y2)"
   ]
  },
  {
   "cell_type": "code",
   "execution_count": 5,
   "id": "8f0107ba-1f6b-4da1-91ae-94f9f935ba01",
   "metadata": {},
   "outputs": [
    {
     "name": "stdout",
     "output_type": "stream",
     "text": [
      "True\n",
      "False\n",
      "True\n",
      "False\n"
     ]
    }
   ],
   "source": [
    "x=\"Anushka\"\n",
    "y=9,8,7,6,5,4,3\n",
    "print('A' in x)\n",
    "print('s' not in x)\n",
    "print(8 in y)\n",
    "print(6 not in y)"
   ]
  },
  {
   "cell_type": "code",
   "execution_count": null,
   "id": "020c8823-31cc-4412-8afe-f2a27248816e",
   "metadata": {},
   "outputs": [],
   "source": [
    "a=\"nykaa\"\n",
    "b=4,5,6,7\n",
    "print('A' in x)\n",
    "print('y' not in x)\n",
    "print(8 in y)\n",
    "print(6\n",
    "      in y)"
   ]
  }
 ],
 "metadata": {
  "kernelspec": {
   "display_name": "Python 3 (ipykernel)",
   "language": "python",
   "name": "python3"
  },
  "language_info": {
   "codemirror_mode": {
    "name": "ipython",
    "version": 3
   },
   "file_extension": ".py",
   "mimetype": "text/x-python",
   "name": "python",
   "nbconvert_exporter": "python",
   "pygments_lexer": "ipython3",
   "version": "3.12.4"
  }
 },
 "nbformat": 4,
 "nbformat_minor": 5
}
