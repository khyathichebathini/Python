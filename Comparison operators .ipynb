{
 "cells": [
  {
   "cell_type": "code",
   "execution_count": 1,
   "id": "b6809221-44ce-403c-8ebe-110026a661df",
   "metadata": {},
   "outputs": [
    {
     "name": "stdout",
     "output_type": "stream",
     "text": [
      "True\n"
     ]
    }
   ],
   "source": [
    "a=6\n",
    "b=6\n",
    "print(a==b)"
   ]
  },
  {
   "cell_type": "code",
   "execution_count": 2,
   "id": "d79fc1f6-61d0-4e8d-ab5f-1c4c69113692",
   "metadata": {},
   "outputs": [
    {
     "name": "stdout",
     "output_type": "stream",
     "text": [
      "True\n"
     ]
    }
   ],
   "source": [
    "a=99\n",
    "b=5\n",
    "print(a!=b)"
   ]
  },
  {
   "cell_type": "code",
   "execution_count": 3,
   "id": "58f7a3d3-eda9-4021-831e-5e27eeb9ba2f",
   "metadata": {},
   "outputs": [
    {
     "name": "stdout",
     "output_type": "stream",
     "text": [
      "False\n"
     ]
    }
   ],
   "source": [
    "x=77\n",
    "b=6\n",
    "print(x==b)"
   ]
  },
  {
   "cell_type": "code",
   "execution_count": 4,
   "id": "648bfa89-80e9-4933-8fee-a33811d7ad4b",
   "metadata": {},
   "outputs": [
    {
     "name": "stdout",
     "output_type": "stream",
     "text": [
      "True\n"
     ]
    }
   ],
   "source": [
    "r=81\n",
    "y=69\n",
    "print(r>y)"
   ]
  },
  {
   "cell_type": "code",
   "execution_count": 5,
   "id": "e6ff1403-d9c0-4c11-b245-0a63dd1122ae",
   "metadata": {},
   "outputs": [
    {
     "name": "stdout",
     "output_type": "stream",
     "text": [
      "True\n"
     ]
    }
   ],
   "source": [
    "f=733456\n",
    "p=2345645678\n",
    "print(f<p)"
   ]
  },
  {
   "cell_type": "code",
   "execution_count": 6,
   "id": "6edbba9e-84b0-43d8-85ea-d3b879660320",
   "metadata": {},
   "outputs": [
    {
     "name": "stdout",
     "output_type": "stream",
     "text": [
      "False\n"
     ]
    }
   ],
   "source": [
    "k=9876\n",
    "x=1234\n",
    "print(k<x)\n"
   ]
  },
  {
   "cell_type": "code",
   "execution_count": 7,
   "id": "050db66b-556d-40a2-8bd7-733c4e8191d7",
   "metadata": {},
   "outputs": [
    {
     "name": "stdout",
     "output_type": "stream",
     "text": [
      "True\n"
     ]
    }
   ],
   "source": [
    "v=378\n",
    "s=61\n",
    "print(v>=s)"
   ]
  },
  {
   "cell_type": "code",
   "execution_count": 8,
   "id": "871eb306-85d1-44d7-8211-ef5ffb6eeb79",
   "metadata": {},
   "outputs": [
    {
     "name": "stdout",
     "output_type": "stream",
     "text": [
      "True\n"
     ]
    }
   ],
   "source": [
    "s=25\n",
    "j=1457\n",
    "print(s<=j)"
   ]
  },
  {
   "cell_type": "code",
   "execution_count": 9,
   "id": "c8b0a335-1920-497e-a037-b4be03a2180f",
   "metadata": {},
   "outputs": [
    {
     "name": "stdout",
     "output_type": "stream",
     "text": [
      "False\n"
     ]
    }
   ],
   "source": [
    "d=34567\n",
    "f=98765432\n",
    "print(d>=f)"
   ]
  },
  {
   "cell_type": "code",
   "execution_count": null,
   "id": "1ad95090-b13f-4ce3-898c-5fe8115d6d34",
   "metadata": {},
   "outputs": [],
   "source": [
    "g=67\n",
    "x=72"
   ]
  }
 ],
 "metadata": {
  "kernelspec": {
   "display_name": "Python 3 (ipykernel)",
   "language": "python",
   "name": "python3"
  },
  "language_info": {
   "codemirror_mode": {
    "name": "ipython",
    "version": 3
   },
   "file_extension": ".py",
   "mimetype": "text/x-python",
   "name": "python",
   "nbconvert_exporter": "python",
   "pygments_lexer": "ipython3",
   "version": "3.12.4"
  }
 },
 "nbformat": 4,
 "nbformat_minor": 5
}
