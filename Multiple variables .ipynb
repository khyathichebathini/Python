{
 "cells": [
  {
   "cell_type": "code",
   "execution_count": 3,
   "id": "7104ba00-35d2-4888-a4f2-3482c393211e",
   "metadata": {},
   "outputs": [
    {
     "name": "stdout",
     "output_type": "stream",
     "text": [
      "virat\n",
      "vamika\n",
      "akaay\n"
     ]
    }
   ],
   "source": [
    "a,b,c=\"virat\",\"vamika\",\"akaay\"\n",
    "print(a)\n",
    "print(b)\n",
    "print(c)"
   ]
  },
  {
   "cell_type": "code",
   "execution_count": 5,
   "id": "74243be2-4d8e-4fbd-adbf-370cee35ff47",
   "metadata": {},
   "outputs": [
    {
     "name": "stdout",
     "output_type": "stream",
     "text": [
      "spects\n",
      "spects\n",
      "spects\n"
     ]
    }
   ],
   "source": [
    "x=y=z=\"spects\"\n",
    "print(x)\n",
    "print(y)\n",
    "print(z)"
   ]
  },
  {
   "cell_type": "code",
   "execution_count": 7,
   "id": "80d53cf3-505c-4db9-b6a2-d495e3249596",
   "metadata": {},
   "outputs": [
    {
     "name": "stdout",
     "output_type": "stream",
     "text": [
      "('tesla', 'audi', 'benz')\n"
     ]
    }
   ],
   "source": [
    "cars=\"tesla\",\"audi\",\"benz\"\n",
    "print(cars)"
   ]
  },
  {
   "cell_type": "code",
   "execution_count": 11,
   "id": "39c3fbc8-e472-4b21-b4c1-451c768a6fb1",
   "metadata": {},
   "outputs": [
    {
     "name": "stdout",
     "output_type": "stream",
     "text": [
      "indentation\n",
      "comments\n",
      "keywords\n"
     ]
    }
   ],
   "source": [
    "python1,python2,python3=\"indentation\",\"comments\",\"keywords\"\n",
    "print(python1)\n",
    "print(python2)\n",
    "print(python3)"
   ]
  },
  {
   "cell_type": "code",
   "execution_count": 13,
   "id": "4b06a2ce-d423-4f5d-9eb4-7255ff42213e",
   "metadata": {},
   "outputs": [
    {
     "name": "stdout",
     "output_type": "stream",
     "text": [
      "90\n",
      "90\n",
      "90\n"
     ]
    }
   ],
   "source": [
    "maths=science=social=90\n",
    "print(maths)\n",
    "print(science)\n",
    "print(social)"
   ]
  },
  {
   "cell_type": "code",
   "execution_count": 17,
   "id": "a96080bc-405f-4b48-9cf5-7f53464ec1d4",
   "metadata": {},
   "outputs": [
    {
     "ename": "SyntaxError",
     "evalue": "invalid syntax (560144234.py, line 1)",
     "output_type": "error",
     "traceback": [
      "\u001b[1;36m  Cell \u001b[1;32mIn[17], line 1\u001b[1;36m\u001b[0m\n\u001b[1;33m    neet=@,#,$\u001b[0m\n\u001b[1;37m         ^\u001b[0m\n\u001b[1;31mSyntaxError\u001b[0m\u001b[1;31m:\u001b[0m invalid syntax\n"
     ]
    }
   ],
   "source": [
    "neet=@,#,$\n",
    "print(neet)"
   ]
  },
  {
   "cell_type": "code",
   "execution_count": null,
   "id": "9c13b448-00f4-4a06-a77b-51b842817ec6",
   "metadata": {},
   "outputs": [],
   "source": []
  }
 ],
 "metadata": {
  "kernelspec": {
   "display_name": "Python 3 (ipykernel)",
   "language": "python",
   "name": "python3"
  },
  "language_info": {
   "codemirror_mode": {
    "name": "ipython",
    "version": 3
   },
   "file_extension": ".py",
   "mimetype": "text/x-python",
   "name": "python",
   "nbconvert_exporter": "python",
   "pygments_lexer": "ipython3",
   "version": "3.12.4"
  }
 },
 "nbformat": 4,
 "nbformat_minor": 5
}
