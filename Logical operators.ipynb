{
 "cells": [
  {
   "cell_type": "code",
   "execution_count": 2,
   "id": "f1997432-3911-4a5f-a4dd-b09a9490925c",
   "metadata": {},
   "outputs": [
    {
     "name": "stdout",
     "output_type": "stream",
     "text": [
      "True\n"
     ]
    }
   ],
   "source": [
    "print(333>2 and 77<345)"
   ]
  },
  {
   "cell_type": "code",
   "execution_count": 3,
   "id": "11494a4a-34f4-4b52-8348-b5c05ca56e90",
   "metadata": {},
   "outputs": [
    {
     "name": "stdout",
     "output_type": "stream",
     "text": [
      "False\n"
     ]
    }
   ],
   "source": [
    "print(22<543 and 345>2938)"
   ]
  },
  {
   "cell_type": "code",
   "execution_count": 4,
   "id": "f8182f42-0767-431c-b947-26d6f4db46e3",
   "metadata": {},
   "outputs": [
    {
     "name": "stdout",
     "output_type": "stream",
     "text": [
      "True\n"
     ]
    }
   ],
   "source": [
    "print(63<643 or 739>800)"
   ]
  },
  {
   "cell_type": "code",
   "execution_count": 10,
   "id": "f640f3ca-2302-43de-a526-d7aac74e89d4",
   "metadata": {},
   "outputs": [
    {
     "name": "stdout",
     "output_type": "stream",
     "text": [
      "False\n"
     ]
    }
   ],
   "source": [
    "print(912<9 or 23>232)"
   ]
  },
  {
   "cell_type": "code",
   "execution_count": 11,
   "id": "4a4363b7-1a32-49b3-b178-0db904cb56ad",
   "metadata": {},
   "outputs": [
    {
     "name": "stdout",
     "output_type": "stream",
     "text": [
      "False\n"
     ]
    }
   ],
   "source": [
    "x=99\n",
    "print(not(x<100 and x>9))"
   ]
  },
  {
   "cell_type": "code",
   "execution_count": 12,
   "id": "6507537c-e4cd-4c7e-a168-5ad7097e0301",
   "metadata": {},
   "outputs": [
    {
     "name": "stdout",
     "output_type": "stream",
     "text": [
      "True\n"
     ]
    }
   ],
   "source": [
    "x=14\n",
    "print(not(x>15 and x<9))"
   ]
  },
  {
   "cell_type": "code",
   "execution_count": 13,
   "id": "cd07d019-7edf-4ca8-a265-b4d44ec111f7",
   "metadata": {},
   "outputs": [
    {
     "name": "stdout",
     "output_type": "stream",
     "text": [
      "False\n"
     ]
    }
   ],
   "source": [
    "x=73\n",
    "print(not(x<96 or x>111))"
   ]
  },
  {
   "cell_type": "code",
   "execution_count": 14,
   "id": "ea18e937-e66c-431f-b28a-78999774e6d7",
   "metadata": {},
   "outputs": [
    {
     "name": "stdout",
     "output_type": "stream",
     "text": [
      "True\n"
     ]
    }
   ],
   "source": [
    "x=5\n",
    "print(not(x>7 or x<3))"
   ]
  },
  {
   "cell_type": "code",
   "execution_count": 16,
   "id": "c552fd69-30b2-4535-a226-5eceabf7e075",
   "metadata": {},
   "outputs": [
    {
     "name": "stdout",
     "output_type": "stream",
     "text": [
      "False\n"
     ]
    }
   ],
   "source": [
    "print(53>7 and 83<12)"
   ]
  },
  {
   "cell_type": "code",
   "execution_count": null,
   "id": "a39bb282-e890-472a-9798-19a07444116a",
   "metadata": {},
   "outputs": [],
   "source": [
    "print("
   ]
  }
 ],
 "metadata": {
  "kernelspec": {
   "display_name": "Python 3 (ipykernel)",
   "language": "python",
   "name": "python3"
  },
  "language_info": {
   "codemirror_mode": {
    "name": "ipython",
    "version": 3
   },
   "file_extension": ".py",
   "mimetype": "text/x-python",
   "name": "python",
   "nbconvert_exporter": "python",
   "pygments_lexer": "ipython3",
   "version": "3.12.4"
  }
 },
 "nbformat": 4,
 "nbformat_minor": 5
}
