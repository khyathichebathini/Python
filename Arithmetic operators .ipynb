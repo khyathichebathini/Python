{
 "cells": [
  {
   "cell_type": "code",
   "execution_count": 1,
   "id": "d7a40cf2-3b71-455b-8ba0-402d0bdc1044",
   "metadata": {},
   "outputs": [
    {
     "name": "stdout",
     "output_type": "stream",
     "text": [
      "132\n"
     ]
    }
   ],
   "source": [
    "a=76\n",
    "b=56\n",
    "print(a+b)1234567\n"
   ]
  },
  {
   "cell_type": "code",
   "execution_count": 2,
   "id": "eca27416-7607-403f-99ad-b9e187839a99",
   "metadata": {},
   "outputs": [
    {
     "name": "stdout",
     "output_type": "stream",
     "text": [
      "-20\n"
     ]
    }
   ],
   "source": [
    "c=78\n",
    "d=98\n",
    "print(c-d)"
   ]
  },
  {
   "cell_type": "code",
   "execution_count": 3,
   "id": "7719f164-ca09-426b-9594-46f1b118fa98",
   "metadata": {},
   "outputs": [
    {
     "name": "stdout",
     "output_type": "stream",
     "text": [
      "54\n"
     ]
    }
   ],
   "source": [
    "k=6\n",
    "l=9\n",
    "print(k*l)"
   ]
  },
  {
   "cell_type": "code",
   "execution_count": 4,
   "id": "0c5ff3ea-804c-44d9-bd35-bbc61946947e",
   "metadata": {},
   "outputs": [
    {
     "name": "stdout",
     "output_type": "stream",
     "text": [
      "0.012012012012012012\n"
     ]
    }
   ],
   "source": [
    "x=12\n",
    "y=999\n",
    "print(x/y)"
   ]
  },
  {
   "cell_type": "code",
   "execution_count": 7,
   "id": "479ad614-852b-43f1-87e1-3e5145f8c5a1",
   "metadata": {},
   "outputs": [
    {
     "name": "stdout",
     "output_type": "stream",
     "text": [
      "1234567\n"
     ]
    }
   ],
   "source": [
    "a=1234567\n",
    "b=9876543\n",
    "print(a%b)"
   ]
  },
  {
   "cell_type": "code",
   "execution_count": 8,
   "id": "d3d080e7-7aab-4c03-9ee7-3723238da5a0",
   "metadata": {},
   "outputs": [
    {
     "name": "stdout",
     "output_type": "stream",
     "text": [
      "279936\n"
     ]
    }
   ],
   "source": [
    "c=6\n",
    "b=7\n",
    "print(c**b)"
   ]
  },
  {
   "cell_type": "code",
   "execution_count": 10,
   "id": "6353e58a-2dee-4801-a7ca-7f729d50a408",
   "metadata": {},
   "outputs": [
    {
     "name": "stdout",
     "output_type": "stream",
     "text": [
      "38\n"
     ]
    }
   ],
   "source": [
    "h=77\n",
    "j=2\n",
    "print(h//j)"
   ]
  },
  {
   "cell_type": "code",
   "execution_count": null,
   "id": "47e87755-9195-40d0-aa3a-f9cf2465a01a",
   "metadata": {},
   "outputs": [],
   "source": []
  }
 ],
 "metadata": {
  "kernelspec": {
   "display_name": "Python 3 (ipykernel)",
   "language": "python",
   "name": "python3"
  },
  "language_info": {
   "codemirror_mode": {
    "name": "ipython",
    "version": 3
   },
   "file_extension": ".py",
   "mimetype": "text/x-python",
   "name": "python",
   "nbconvert_exporter": "python",
   "pygments_lexer": "ipython3",
   "version": "3.12.4"
  }
 },
 "nbformat": 4,
 "nbformat_minor": 5
}
