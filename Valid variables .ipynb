{
 "cells": [
  {
   "cell_type": "code",
   "execution_count": 1,
   "id": "89daba1d-787e-4ded-a3fa-6a0d0d023519",
   "metadata": {},
   "outputs": [
    {
     "name": "stdout",
     "output_type": "stream",
     "text": [
      "20\n"
     ]
    }
   ],
   "source": [
    "Khyathi_14=20\n",
    "print(Khyathi_14)"
   ]
  },
  {
   "cell_type": "code",
   "execution_count": 5,
   "id": "30566757-74b4-4284-99e5-c9bc56dbad3e",
   "metadata": {},
   "outputs": [
    {
     "name": "stdout",
     "output_type": "stream",
     "text": [
      "534002\n"
     ]
    }
   ],
   "source": [
    "_hyderabad=534002\n",
    "print(_hyderabad)"
   ]
  },
  {
   "cell_type": "code",
   "execution_count": 7,
   "id": "8d64c73c-b6cd-4f0c-87fc-f034f9e3a9b3",
   "metadata": {},
   "outputs": [
    {
     "name": "stdout",
     "output_type": "stream",
     "text": [
      "18\n"
     ]
    }
   ],
   "source": [
    "viratkohli=18\n",
    "print(viratkohli)"
   ]
  },
  {
   "cell_type": "code",
   "execution_count": 9,
   "id": "8a5abae4-97b8-484d-8aff-bac008714cfb",
   "metadata": {},
   "outputs": [
    {
     "name": "stdout",
     "output_type": "stream",
     "text": [
      "650\n"
     ]
    }
   ],
   "source": [
    "mercedes_5465=650\n",
    "print(mercedes_5465)"
   ]
  },
  {
   "cell_type": "code",
   "execution_count": 11,
   "id": "aac36b28-bbe2-4194-b969-e3b8420a599b",
   "metadata": {},
   "outputs": [
    {
     "name": "stdout",
     "output_type": "stream",
     "text": [
      "999\n"
     ]
    }
   ],
   "source": [
    "Blooming_flowers=999\n",
    "print(Blooming_flowers)"
   ]
  },
  {
   "cell_type": "code",
   "execution_count": 13,
   "id": "36bfc7cd-5a3d-4b95-a4de-4fe17083c3b5",
   "metadata": {},
   "outputs": [
    {
     "name": "stdout",
     "output_type": "stream",
     "text": [
      "100\n"
     ]
    }
   ],
   "source": [
    "_instagram=100\n",
    "print(_instagram)"
   ]
  },
  {
   "cell_type": "code",
   "execution_count": 15,
   "id": "9291758d-64cc-4822-bb87-19a0c9f5984f",
   "metadata": {},
   "outputs": [
    {
     "name": "stdout",
     "output_type": "stream",
     "text": [
      "2023\n"
     ]
    }
   ],
   "source": [
    "honey_singh_music=2023\n",
    "print(honey_singh_music)"
   ]
  },
  {
   "cell_type": "code",
   "execution_count": 17,
   "id": "b60734da-df25-4a62-a99b-75358a57c4a6",
   "metadata": {},
   "outputs": [
    {
     "name": "stdout",
     "output_type": "stream",
     "text": [
      "2024\n"
     ]
    }
   ],
   "source": [
    "T20_world_cup=2024\n",
    "print(T20_world_cup)"
   ]
  },
  {
   "cell_type": "code",
   "execution_count": 21,
   "id": "3b1b5063-5061-415c-8967-d620aa696d34",
   "metadata": {},
   "outputs": [
    {
     "name": "stdout",
     "output_type": "stream",
     "text": [
      "21\n"
     ]
    }
   ],
   "source": [
    "_HONEY=21\n",
    "print(_HONEY)"
   ]
  },
  {
   "cell_type": "code",
   "execution_count": 23,
   "id": "18f3a06c-b61f-42c6-bad2-a35569df8fb0",
   "metadata": {},
   "outputs": [
    {
     "name": "stdout",
     "output_type": "stream",
     "text": [
      "557\n"
     ]
    }
   ],
   "source": [
    "_30_june=557\n",
    "print(_30_june)"
   ]
  },
  {
   "cell_type": "code",
   "execution_count": 25,
   "id": "52d755d5-d2b9-4101-affb-1c175a242e3d",
   "metadata": {},
   "outputs": [
    {
     "name": "stdout",
     "output_type": "stream",
     "text": [
      "365\n"
     ]
    }
   ],
   "source": [
    "One_year=365\n",
    "print(One_year)"
   ]
  },
  {
   "cell_type": "code",
   "execution_count": 31,
   "id": "1ae2f92d-e08d-4868-9fd3-d99760f5957f",
   "metadata": {},
   "outputs": [
    {
     "name": "stdout",
     "output_type": "stream",
     "text": [
      "80000\n"
     ]
    }
   ],
   "source": [
    "iphone15plus=80000\n",
    "print(iphone15plus)"
   ]
  },
  {
   "cell_type": "code",
   "execution_count": 33,
   "id": "b5966d1e-cb63-4732-968b-1c1df16eaab9",
   "metadata": {},
   "outputs": [
    {
     "name": "stdout",
     "output_type": "stream",
     "text": [
      "98765432\n"
     ]
    }
   ],
   "source": [
    "Python=98765432\n",
    "print(Python)"
   ]
  },
  {
   "cell_type": "code",
   "execution_count": 35,
   "id": "e58cb767-bef2-466a-832e-64c8f94ef378",
   "metadata": {},
   "outputs": [
    {
     "name": "stdout",
     "output_type": "stream",
     "text": [
      "8.976\n"
     ]
    }
   ],
   "source": [
    "_kevin=8.976\n",
    "print(_kevin)"
   ]
  },
  {
   "cell_type": "code",
   "execution_count": 37,
   "id": "2aec5245-aae9-49fe-a3cc-7e1ae34b70a0",
   "metadata": {},
   "outputs": [
    {
     "name": "stdout",
     "output_type": "stream",
     "text": [
      "1234567890\n"
     ]
    }
   ],
   "source": [
    "num=1234567890\n",
    "print(num)"
   ]
  },
  {
   "cell_type": "code",
   "execution_count": 39,
   "id": "cf02747b-3990-4de2-8f5f-e2c5cea27a9d",
   "metadata": {},
   "outputs": [
    {
     "name": "stdout",
     "output_type": "stream",
     "text": [
      "18\n"
     ]
    }
   ],
   "source": [
    "_one8Commune=18\n",
    "print(_one8Commune)"
   ]
  },
  {
   "cell_type": "code",
   "execution_count": 41,
   "id": "7499dbec-618a-4d25-aa27-bad2040482f5",
   "metadata": {},
   "outputs": [
    {
     "name": "stdout",
     "output_type": "stream",
     "text": [
      "13\n"
     ]
    }
   ],
   "source": [
    "Tay_lor_swift=13\n",
    "print(Tay_lor_swift)"
   ]
  },
  {
   "cell_type": "code",
   "execution_count": 47,
   "id": "6f898a07-e3d2-4dd4-a1c9-daed91d31775",
   "metadata": {},
   "outputs": [
    {
     "name": "stdout",
     "output_type": "stream",
     "text": [
      "5674839\n"
     ]
    }
   ],
   "source": [
    "Heyy=5674839\n",
    "print(Heyy)"
   ]
  },
  {
   "cell_type": "code",
   "execution_count": 51,
   "id": "9793ad4d-a62b-45b4-bf55-ae1dd8249256",
   "metadata": {},
   "outputs": [
    {
     "name": "stdout",
     "output_type": "stream",
     "text": [
      "21\n"
     ]
    }
   ],
   "source": [
    "_Century_=21\n",
    "print(_Century_)"
   ]
  },
  {
   "cell_type": "code",
   "execution_count": 53,
   "id": "cbc63831-8ccf-47cb-a56e-6ca10885621c",
   "metadata": {},
   "outputs": [
    {
     "name": "stdout",
     "output_type": "stream",
     "text": [
      "54.67\n"
     ]
    }
   ],
   "source": [
    "radius_=54.67\n",
    "print(radius_)"
   ]
  }
 ],
 "metadata": {
  "kernelspec": {
   "display_name": "Python 3 (ipykernel)",
   "language": "python",
   "name": "python3"
  },
  "language_info": {
   "codemirror_mode": {
    "name": "ipython",
    "version": 3
   },
   "file_extension": ".py",
   "mimetype": "text/x-python",
   "name": "python",
   "nbconvert_exporter": "python",
   "pygments_lexer": "ipython3",
   "version": "3.12.4"
  }
 },
 "nbformat": 4,
 "nbformat_minor": 5
}
