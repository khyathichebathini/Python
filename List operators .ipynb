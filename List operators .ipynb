{
 "cells": [
  {
   "cell_type": "code",
   "execution_count": 11,
   "id": "cad4d601-1d59-4864-aebe-7e7d77b1210a",
   "metadata": {},
   "outputs": [
    {
     "name": "stdout",
     "output_type": "stream",
     "text": [
      "[]\n",
      "<class 'list'>\n",
      "<class 'list'>\n",
      "<class 'list'>\n"
     ]
    }
   ],
   "source": [
    "my_list=[ ]\n",
    "numbers=[0,2,4,6,8,]\n",
    "strings=[\"honey\",\"kevin\",\"virat\"]\n",
    "mixed_types=[14,\"ranbir\",23.4]\n",
    "print(my_list)\n",
    "print(type(numbers))\n",
    "print(type(strings))\n",
    "print(type(mixed_types))\n"
   ]
  },
  {
   "cell_type": "code",
   "execution_count": 12,
   "id": "d406c913-e60c-470a-8b26-707cf5d6e2d8",
   "metadata": {},
   "outputs": [
    {
     "name": "stdout",
     "output_type": "stream",
     "text": [
      "5\n",
      "8\n",
      "13\n",
      "106\n"
     ]
    }
   ],
   "source": [
    "#list with numbers\n",
    "a=[1,2,3,4,5,6,7]\n",
    "b=[9,8,7,6,5,4,3]\n",
    "c=[12,13,14,11,15,16,17]\n",
    "d=[101,102,103,104,105,106]\n",
    "print(a[4])\n",
    "print(b[1])\n",
    "print(c[-6])\n",
    "print(d[-1])\n"
   ]
  },
  {
   "cell_type": "code",
   "execution_count": 13,
   "id": "ae4a3955-ce92-4ce1-8682-81b1670ede71",
   "metadata": {},
   "outputs": [
    {
     "name": "stdout",
     "output_type": "stream",
     "text": [
      "shilu\n",
      "blair\n",
      "stefan\n"
     ]
    }
   ],
   "source": [
    "#list with strings\n",
    "a1=[\"shiny\",\"smily\",\"shilu\"]\n",
    "b1=[\"serena\",\"blair\",\"chuck\",\"dan\",\"nate\"]\n",
    "c1=[\"damon\",\"elena\",\"stefan\",\"caroline\",\"bonnie\"]\n",
    "print(a1[2])\n",
    "print(b1[-4])\n",
    "print(c1[2])"
   ]
  },
  {
   "cell_type": "code",
   "execution_count": 17,
   "id": "753bf482-0d22-4dff-8705-baca6a973716",
   "metadata": {},
   "outputs": [
    {
     "name": "stdout",
     "output_type": "stream",
     "text": [
      "[4, 5, 6, 7, 8]\n",
      "[7, 8, 9]\n"
     ]
    }
   ],
   "source": [
    "#slicing of numbers\n",
    "x=[3,4,5,6,7,8,9]\n",
    "y=[6,7,8,9,0,1,2]\n",
    "print(x[-6:-1])\n",
    "print(y[1:4])"
   ]
  },
  {
   "cell_type": "code",
   "execution_count": 18,
   "id": "16604760-8d6e-4daa-bceb-577fa9a308fd",
   "metadata": {},
   "outputs": [
    {
     "name": "stdout",
     "output_type": "stream",
     "text": [
      "[6, 7]\n",
      "[9, 0, 1, 2]\n"
     ]
    }
   ],
   "source": [
    "#slicing of strings\n",
    "x1=[\"ben\",\"david\",\"patrick\",\"devi\",\"elenaor\"]\n",
    "y1=[\"kohli\",\"dhoni\",\"abd\",\"cook\",\"smith\",\"faf\",\"siraj\"]\n",
    "print(x[-4:-2])\n",
    "print(y[3:7])"
   ]
  },
  {
   "cell_type": "code",
   "execution_count": 21,
   "id": "6877bafb-256d-46fd-8564-98326b0a293c",
   "metadata": {},
   "outputs": [
    {
     "name": "stdout",
     "output_type": "stream",
     "text": [
      "[1, 3, 5, 7, 9, 8, 6, 2, 4, 6, 8, 9, 7]\n",
      "['keerthi', 'ajitha', 'bhavana', 'khyathi']\n"
     ]
    }
   ],
   "source": [
    "#List operators\n",
    "#(1) concatenation\n",
    "a=[1,3,5,7,9,8,6]\n",
    "b=[2,4,6,8,9,7]\n",
    "x=[\"keerthi\",\"ajitha\"]\n",
    "y=[\"bhavana\",\"khyathi\"]\n",
    "c=a+b\n",
    "z=x+y\n",
    "print(c)\n",
    "print(z)"
   ]
  },
  {
   "cell_type": "code",
   "execution_count": 26,
   "id": "6702d493-4b62-4d5c-b798-1edab54db25d",
   "metadata": {},
   "outputs": [
    {
     "name": "stdout",
     "output_type": "stream",
     "text": [
      "[11, 22, 33, 44, 55, 66, 77, 88, 11, 22, 33, 44, 55, 66, 77, 88, 11, 22, 33, 44, 55, 66, 77, 88, 11, 22, 33, 44, 55, 66, 77, 88, 11, 22, 33, 44, 55, 66, 77, 88, 11, 22, 33, 44, 55, 66, 77, 88, 11, 22, 33, 44, 55, 66, 77, 88, 11, 22, 33, 44, 55, 66, 77, 88, 11, 22, 33, 44, 55, 66, 77, 88, 11, 22, 33, 44, 55, 66, 77, 88]\n",
      "['welcome to hyderabad', 'welcome to hyderabad', 'welcome to hyderabad', 'welcome to hyderabad', 'welcome to hyderabad', 'welcome to hyderabad', 'welcome to hyderabad', 'welcome to hyderabad', 'welcome to hyderabad', 'welcome to hyderabad', 'welcome to hyderabad']\n"
     ]
    }
   ],
   "source": [
    "#(2)repetition\n",
    "x=[11,22,33,44,55,66,77,88]\n",
    "y=x*6\n",
    "print(z)\n",
    "a=[\"welcome to hyderabad\"]\n",
    "b=a*11\n",
    "print(b)"
   ]
  },
  {
   "cell_type": "code",
   "execution_count": 28,
   "id": "9a2de776-de9a-4a46-a030-cfa5ad3c251c",
   "metadata": {},
   "outputs": [
    {
     "name": "stdout",
     "output_type": "stream",
     "text": [
      "[0, 5, 8, 22, 98, 18]\n",
      "[96, 34, 4568, 986, 46]\n",
      "['lipstick', 'lipgloss', 'lipliner', 'lip oil']\n",
      "['swiggy', 'zomato', 'zepto', 'eatsure']\n"
     ]
    }
   ],
   "source": [
    "#list methods\n",
    "#(1)Append\n",
    "x=[0,5,8,22,98]\n",
    "x.append(18)\n",
    "print(x)\n",
    "y=[96,34,4568,986]\n",
    "y.append(46)\n",
    "print(y)\n",
    "a=[\"lipstick\",\"lipgloss\",\"lipliner\"]\n",
    "a.append(\"lip oil\")\n",
    "print(a)\n",
    "b=[\"swiggy\",\"zomato\",\"zepto\"]\n",
    "b.append(\"eatsure\")\n",
    "print(b)\n",
    "\n"
   ]
  },
  {
   "cell_type": "code",
   "execution_count": 37,
   "id": "7f2630c9-8671-4b25-8d83-2c595f3290d3",
   "metadata": {},
   "outputs": [
    {
     "name": "stdout",
     "output_type": "stream",
     "text": [
      "[9, 8, 7, 6, 5, 12, 13, 14]\n",
      "['sravya', 'sravani', 'rishi', 'sahithi', 'priya', 'pandu', 'sharmi']\n"
     ]
    }
   ],
   "source": [
    "#(2) extend\n",
    "x=[9,8,7,6,5]\n",
    "more_numbers=(12,13,14)\n",
    "x.extend(more_numbers)\n",
    "y=[\"sravya\",\"sravani\",\"rishi\",\"sahithi\"]\n",
    "more_names=(\"priya\",\"pandu\",\"sharmi\")\n",
    "y.extend(more_names)\n",
    "print(y)\n"
   ]
  },
  {
   "cell_type": "code",
   "execution_count": 42,
   "id": "904e3a03-4e4d-4e6e-aa54-9a04f4fae6b6",
   "metadata": {},
   "outputs": [
    {
     "name": "stdout",
     "output_type": "stream",
     "text": [
      "[45, 67, 89, 77]\n",
      "[101, 102, 103, 104, 105, 77]\n"
     ]
    }
   ],
   "source": [
    "#(3) insert\n",
    "numbers=[45,67,89]\n",
    "numbers.insert(67,77)\n",
    "print(numbers)\n",
    "numbers=[101,102,103,104,105]\n",
    "numbers.insert(104,77)\n",
    "print(numbers)\n"
   ]
  },
  {
   "cell_type": "code",
   "execution_count": 43,
   "id": "c2f4bf6e-d93c-4ccb-859b-d676926ebd5d",
   "metadata": {},
   "outputs": [
    {
     "name": "stdout",
     "output_type": "stream",
     "text": [
      "[2, 27, 8, 3, 9, 2, 1, 7]\n",
      "['gwen', 'ria', 'ben', 'kevin']\n"
     ]
    }
   ],
   "source": [
    "#(4) remove\n",
    "x=[2,2,27,8,3,9,2,1,7]\n",
    "x.remove(2)\n",
    "print(x)\n",
    "y=[\"ben\",\"gwen\",\"ria\",\"ben\",\"kevin\"]\n",
    "y.remove(\"ben\")\n",
    "print(y)\n"
   ]
  },
  {
   "cell_type": "code",
   "execution_count": 55,
   "id": "9e7d46e5-e0d9-4775-a6e2-1b1d143cffdf",
   "metadata": {},
   "outputs": [
    {
     "name": "stdout",
     "output_type": "stream",
     "text": [
      "[34, 75, 93, 6528, 28]\n",
      "48\n",
      "['priya', 'sharmi']\n",
      "pandu\n"
     ]
    }
   ],
   "source": [
    "#(5)pop\n",
    "a=[34,75,93,6528,48,28]\n",
    "popped_element=a.pop(4)\n",
    "print(a)\n",
    "print(popped_element)\n",
    "\n",
    "a1=[\"priya\",\"pandu\",\"sharmi\"]\n",
    "popped_element=a1.pop(1)\n",
    "print(a1)\n",
    "print(popped_element)\n"
   ]
  },
  {
   "cell_type": "code",
   "execution_count": 57,
   "id": "b8eb01d9-32d4-4668-a8f0-b4b9cb8f3b30",
   "metadata": {},
   "outputs": [
    {
     "name": "stdout",
     "output_type": "stream",
     "text": [
      "0\n",
      "2\n"
     ]
    }
   ],
   "source": [
    "#(6) index\n",
    "x=[10,20,30,40,60,10,10,40]\n",
    "index=x.index(10)\n",
    "print(index)\n",
    "y=[\"ben\",\"gwen\",\"ria\",\"ben\",\"kevin\"]\n",
    "index=y.index(\"ria\")\n",
    "print(index)"
   ]
  },
  {
   "cell_type": "code",
   "execution_count": 58,
   "id": "ffc83cac-aee0-4194-8e38-c409d85049c7",
   "metadata": {},
   "outputs": [
    {
     "name": "stdout",
     "output_type": "stream",
     "text": [
      "3\n",
      "2\n"
     ]
    }
   ],
   "source": [
    "#(7) count\n",
    "numbers=[8,9,2,3,6,2,5,12,5,4,2,7,8,4]\n",
    "count=numbers.count(2)\n",
    "print(count)\n",
    "names=[\"serena\",\"blair\",\"chuck\",\"blair\",\"nate\"]\n",
    "count=names.count(\"blair\")\n",
    "print(count)"
   ]
  },
  {
   "cell_type": "code",
   "execution_count": 52,
   "id": "1274acd7-68b3-4f69-94bb-c8979fe1ae41",
   "metadata": {},
   "outputs": [
    {
     "name": "stdout",
     "output_type": "stream",
     "text": [
      "[0, 1, 2, 3, 4, 5, 6, 7, 8, 8, 9]\n"
     ]
    }
   ],
   "source": [
    "#(8) sort\n",
    "x=[1,4,6,8,3,9,2,0,5,8,7]\n",
    "x.sort( )\n",
    "print(x)\n",
    "z=["
   ]
  },
  {
   "cell_type": "code",
   "execution_count": 59,
   "id": "2bf6439b-ebf2-47d8-829b-8cb6cc2d3352",
   "metadata": {},
   "outputs": [
    {
     "name": "stdout",
     "output_type": "stream",
     "text": [
      "[72, 60, 48, 36, 24, 12]\n",
      "['elenaor', 'devi', 'patrick', 'david', 'ben']\n"
     ]
    }
   ],
   "source": [
    "#(9) reverse\n",
    "a=[12,24,36,48,60,72]\n",
    "a.reverse( )\n",
    "print(a)\n",
    "x1=[\"ben\",\"david\",\"patrick\",\"devi\",\"elenaor\"]\n",
    "x1.reverse( )\n",
    "print(x1)\n"
   ]
  }
 ],
 "metadata": {
  "kernelspec": {
   "display_name": "Python 3 (ipykernel)",
   "language": "python",
   "name": "python3"
  },
  "language_info": {
   "codemirror_mode": {
    "name": "ipython",
    "version": 3
   },
   "file_extension": ".py",
   "mimetype": "text/x-python",
   "name": "python",
   "nbconvert_exporter": "python",
   "pygments_lexer": "ipython3",
   "version": "3.12.4"
  }
 },
 "nbformat": 4,
 "nbformat_minor": 5
}
