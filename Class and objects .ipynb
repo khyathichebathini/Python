{
 "cells": [
  {
   "cell_type": "code",
   "execution_count": 1,
   "id": "796dab17-8f7a-47a8-bc85-895ffaf4b23e",
   "metadata": {},
   "outputs": [
    {
     "name": "stdout",
     "output_type": "stream",
     "text": [
      "Business Analytics\n"
     ]
    }
   ],
   "source": [
    "class Khyathi:\n",
    "    x=\"Business Analytics\"\n",
    "obj=Khyathi()\n",
    "print(obj.x)"
   ]
  },
  {
   "cell_type": "code",
   "execution_count": 3,
   "id": "1a527eca-7d55-48a0-a35b-472610199df4",
   "metadata": {},
   "outputs": [
    {
     "name": "stdout",
     "output_type": "stream",
     "text": [
      "20\n"
     ]
    }
   ],
   "source": [
    "class Bhavana:\n",
    "    y=20\n",
    "obj=Bhavana()\n",
    "print(obj.y)"
   ]
  },
  {
   "cell_type": "code",
   "execution_count": 25,
   "id": "5fbafe9a-a70c-40df-a56e-eae0133ed433",
   "metadata": {},
   "outputs": [
    {
     "name": "stdout",
     "output_type": "stream",
     "text": [
      "Virat scored 12000 runs.\n",
      "ABD scored 9000 runs.\n"
     ]
    }
   ],
   "source": [
    "class Cricketer:\n",
    "    def __init__ (self, name, runs):\n",
    "        self.name=name\n",
    "        self.runs=runs\n",
    "    def stadium(self):\n",
    "        print=\"Wankhade\"\n",
    "Cricketer1 = Cricketer(\"Virat\", 12000)\n",
    "Cricketer2 = Cricketer(\"ABD\", 9000)\n",
    "print(f\"{Cricketer1.name} scored {Cricketer1.runs} runs.\")\n",
    "print(f\"{Cricketer2.name} scored {Cricketer2.runs} runs.\")\n",
    "Cricketer1.stadium()\n",
    "Cricketer2.stadium()"
   ]
  },
  {
   "cell_type": "code",
   "execution_count": 33,
   "id": "9de1a5c6-234a-4523-8a75-cd19ac4c7285",
   "metadata": {},
   "outputs": [
    {
     "name": "stdout",
     "output_type": "stream",
     "text": [
      "Gossip girl\n"
     ]
    }
   ],
   "source": [
    "class x():\n",
    "    def __init__(x):\n",
    "     print(\"Gossip girl\")\n",
    "obj=x()"
   ]
  },
  {
   "cell_type": "code",
   "execution_count": 48,
   "id": "e6f80409-75d2-4149-bd63-b19cca5247fe",
   "metadata": {},
   "outputs": [
    {
     "name": "stdout",
     "output_type": "stream",
     "text": [
      "Pawankalyan has acted in 25 movies till now'\n"
     ]
    }
   ],
   "source": [
    "class Pawankalyan:\n",
    "    def __init__(self, name, movies):\n",
    "        self.name= name\n",
    "        self.movies=movies\n",
    "    def __str__(self):\n",
    "     return f\"{self.name} has acted in {self.movies} movies till now'\"\n",
    "x=Pawankalyan(name=\"Pawankalyan\", movies=25)\n",
    "print(x)"
   ]
  }
 ],
 "metadata": {
  "kernelspec": {
   "display_name": "Python 3 (ipykernel)",
   "language": "python",
   "name": "python3"
  },
  "language_info": {
   "codemirror_mode": {
    "name": "ipython",
    "version": 3
   },
   "file_extension": ".py",
   "mimetype": "text/x-python",
   "name": "python",
   "nbconvert_exporter": "python",
   "pygments_lexer": "ipython3",
   "version": "3.12.4"
  }
 },
 "nbformat": 4,
 "nbformat_minor": 5
}
