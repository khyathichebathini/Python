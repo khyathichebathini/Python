{
 "cells": [
  {
   "cell_type": "code",
   "execution_count": 5,
   "id": "f30d5d75-7e6d-4d2e-8aef-e08321dbda1f",
   "metadata": {},
   "outputs": [
    {
     "name": "stdout",
     "output_type": "stream",
     "text": [
      "False\n",
      "True\n",
      "True\n"
     ]
    }
   ],
   "source": [
    "print(12<0)\n",
    "print(34==34)\n",
    "print(0<12)"
   ]
  },
  {
   "cell_type": "code",
   "execution_count": 1,
   "id": "93f795b1-9ddf-4395-8361-ef58759b92c3",
   "metadata": {},
   "outputs": [
    {
     "name": "stdout",
     "output_type": "stream",
     "text": [
      "True\n",
      "False\n",
      "False\n"
     ]
    }
   ],
   "source": [
    "print(bool(13))\n",
    "print(bool( ))\n",
    "print(bool(0))"
   ]
  },
  {
   "cell_type": "code",
   "execution_count": 3,
   "id": "f3e3d747-3fd4-48ec-a6d7-7e8bb6786c2a",
   "metadata": {},
   "outputs": [
    {
     "name": "stdout",
     "output_type": "stream",
     "text": [
      "False\n",
      "True\n",
      "True\n"
     ]
    }
   ],
   "source": [
    "print(99<9)\n",
    "print(88==88)\n",
    "print(9<99)"
   ]
  },
  {
   "cell_type": "code",
   "execution_count": null,
   "id": "846a9598-3859-4e20-97c0-57e651567b00",
   "metadata": {},
   "outputs": [],
   "source": [
    "print(bool(%))\n",
    "print(bool("
   ]
  }
 ],
 "metadata": {
  "kernelspec": {
   "display_name": "Python 3 (ipykernel)",
   "language": "python",
   "name": "python3"
  },
  "language_info": {
   "codemirror_mode": {
    "name": "ipython",
    "version": 3
   },
   "file_extension": ".py",
   "mimetype": "text/x-python",
   "name": "python",
   "nbconvert_exporter": "python",
   "pygments_lexer": "ipython3",
   "version": "3.12.4"
  }
 },
 "nbformat": 4,
 "nbformat_minor": 5
}
