{
 "cells": [
  {
   "cell_type": "code",
   "execution_count": 1,
   "id": "eb594e6d-1d78-4c7b-8db4-657539c3d3da",
   "metadata": {},
   "outputs": [
    {
     "name": "stdout",
     "output_type": "stream",
     "text": [
      "8\n",
      "15\n",
      "7\n"
     ]
    }
   ],
   "source": [
    "x=9\n",
    "y=14\n",
    "print(x&y)\n",
    "print(x|y)\n",
    "print(x^y)"
   ]
  },
  {
   "cell_type": "code",
   "execution_count": 2,
   "id": "b85bf626-bdf0-4a43-9651-73139b3ffec6",
   "metadata": {},
   "outputs": [
    {
     "name": "stdout",
     "output_type": "stream",
     "text": [
      "430\n",
      "447\n",
      "17\n"
     ]
    }
   ],
   "source": [
    "x=447\n",
    "y=430\n",
    "print(x&y)\n",
    "print(x|y)\n",
    "print(x^y)"
   ]
  },
  {
   "cell_type": "code",
   "execution_count": 3,
   "id": "ab3ae609-0b1f-4458-9103-3bcb64a10242",
   "metadata": {},
   "outputs": [
    {
     "name": "stdout",
     "output_type": "stream",
     "text": [
      "1\n",
      "335\n",
      "334\n"
     ]
    }
   ],
   "source": [
    "x=333\n",
    "y=3\n",
    "print(x&y)\n",
    "print(x|y)\n",
    "print(x^y)"
   ]
  },
  {
   "cell_type": "code",
   "execution_count": 4,
   "id": "836b5ba5-c278-4b42-bbb2-a5d1a28ce2ea",
   "metadata": {},
   "outputs": [
    {
     "name": "stdout",
     "output_type": "stream",
     "text": [
      "449\n",
      "1995\n",
      "1546\n"
     ]
    }
   ],
   "source": [
    "x=971\n",
    "y=1473\n",
    "print(x&y)\n",
    "print(x|y)\n",
    "print(x^y)"
   ]
  },
  {
   "cell_type": "code",
   "execution_count": 5,
   "id": "2acd38de-d6f6-4ebc-a616-8987424505fa",
   "metadata": {},
   "outputs": [
    {
     "name": "stdout",
     "output_type": "stream",
     "text": [
      "-57\n"
     ]
    }
   ],
   "source": [
    "n=56\n",
    "print(~n)"
   ]
  },
  {
   "cell_type": "code",
   "execution_count": 6,
   "id": "d9b142d4-3c35-4554-8f0e-7752980bfe94",
   "metadata": {},
   "outputs": [
    {
     "name": "stdout",
     "output_type": "stream",
     "text": [
      "-421\n"
     ]
    }
   ],
   "source": [
    "n=420\n",
    "print(~n)"
   ]
  },
  {
   "cell_type": "code",
   "execution_count": 7,
   "id": "6d325be9-a3be-4410-8fff-5bf794e28620",
   "metadata": {},
   "outputs": [
    {
     "name": "stdout",
     "output_type": "stream",
     "text": [
      "-77\n"
     ]
    }
   ],
   "source": [
    "n=76\n",
    "print(~n)"
   ]
  },
  {
   "cell_type": "code",
   "execution_count": 9,
   "id": "dd6c6748-d142-48cf-b2ab-6d680b276c86",
   "metadata": {},
   "outputs": [
    {
     "name": "stdout",
     "output_type": "stream",
     "text": [
      "38256\n"
     ]
    }
   ],
   "source": [
    "x=2391\n",
    "y=4\n",
    "print(x<<y)"
   ]
  },
  {
   "cell_type": "code",
   "execution_count": 10,
   "id": "77e8ded9-a542-4e7b-93b6-2335b38c4303",
   "metadata": {},
   "outputs": [
    {
     "name": "stdout",
     "output_type": "stream",
     "text": [
      "28764\n"
     ]
    }
   ],
   "source": [
    "x=7191\n",
    "y=2\n",
    "print(x<<y)"
   ]
  },
  {
   "cell_type": "code",
   "execution_count": 11,
   "id": "cc50c0d7-d150-4265-8608-0a30924ba0ec",
   "metadata": {},
   "outputs": [
    {
     "name": "stdout",
     "output_type": "stream",
     "text": [
      "2560\n"
     ]
    }
   ],
   "source": [
    "x=5121\n",
    "y=1\n",
    "print(x>>y)"
   ]
  },
  {
   "cell_type": "code",
   "execution_count": 12,
   "id": "d5489253-fb38-4d7d-a12c-6e9ac47d9e68",
   "metadata": {},
   "outputs": [
    {
     "name": "stdout",
     "output_type": "stream",
     "text": [
      "378\n"
     ]
    }
   ],
   "source": [
    "x=3029\n",
    "y=3\n",
    "print(x>>y)"
   ]
  },
  {
   "cell_type": "code",
   "execution_count": null,
   "id": "b818bfe2-b381-4c59-b16a-d7db54f5d3e8",
   "metadata": {},
   "outputs": [],
   "source": [
    "x=2+"
   ]
  }
 ],
 "metadata": {
  "kernelspec": {
   "display_name": "Python 3 (ipykernel)",
   "language": "python",
   "name": "python3"
  },
  "language_info": {
   "codemirror_mode": {
    "name": "ipython",
    "version": 3
   },
   "file_extension": ".py",
   "mimetype": "text/x-python",
   "name": "python",
   "nbconvert_exporter": "python",
   "pygments_lexer": "ipython3",
   "version": "3.12.4"
  }
 },
 "nbformat": 4,
 "nbformat_minor": 5
}
