{
 "cells": [
  {
   "cell_type": "code",
   "execution_count": 1,
   "id": "3514ab19-2202-4f69-9eee-2492ae86f77d",
   "metadata": {},
   "outputs": [
    {
     "name": "stdout",
     "output_type": "stream",
     "text": [
      "()\n"
     ]
    }
   ],
   "source": [
    "#Emptytuple\n",
    "z=( )\n",
    "print(z)"
   ]
  },
  {
   "cell_type": "code",
   "execution_count": 2,
   "id": "92897c92-b97b-4b1f-a2d5-4d66f0b130fe",
   "metadata": {},
   "outputs": [
    {
     "name": "stdout",
     "output_type": "stream",
     "text": [
      "<class 'tuple'>\n"
     ]
    }
   ],
   "source": [
    "x=(\"netflix\",\"prime\",\"aha\")\n",
    "print(type(x))"
   ]
  },
  {
   "cell_type": "code",
   "execution_count": 4,
   "id": "7940e6c4-a931-438a-8929-c2165295323d",
   "metadata": {},
   "outputs": [
    {
     "name": "stdout",
     "output_type": "stream",
     "text": [
      "c++\n",
      "('python', 'java')\n",
      "vampire diaries\n",
      "('never have i ever', 'after')\n"
     ]
    }
   ],
   "source": [
    "#Accesing of tuples\n",
    "y=(\"python\",\"java\",\"c\",\"c++\")\n",
    "print(y[3])\n",
    "print(y[0:2])\n",
    "a=(\"gossip girl\",\"vampire diaries\",\"never have i ever\",\"after\",\"the summer i turned pretty\")\n",
    "print(a[1])\n",
    "print(a[2:4])"
   ]
  },
  {
   "cell_type": "code",
   "execution_count": 5,
   "id": "a45a965e-5e25-4200-accf-21edc377278a",
   "metadata": {},
   "outputs": [
    {
     "ename": "TypeError",
     "evalue": "'tuple' object does not support item assignment",
     "output_type": "error",
     "traceback": [
      "\u001b[1;31m---------------------------------------------------------------------------\u001b[0m",
      "\u001b[1;31mTypeError\u001b[0m                                 Traceback (most recent call last)",
      "Cell \u001b[1;32mIn[5], line 4\u001b[0m\n\u001b[0;32m      1\u001b[0m \u001b[38;5;66;03m#Immutability\u001b[39;00m\n\u001b[0;32m      3\u001b[0m x\u001b[38;5;241m=\u001b[39m(\u001b[38;5;124m\"\u001b[39m\u001b[38;5;124mpawankalyan\u001b[39m\u001b[38;5;124m\"\u001b[39m,\u001b[38;5;124m\"\u001b[39m\u001b[38;5;124mJSP\u001b[39m\u001b[38;5;124m\"\u001b[39m,\u001b[38;5;124m\"\u001b[39m\u001b[38;5;124mdeputy cm\u001b[39m\u001b[38;5;124m\"\u001b[39m,\u001b[38;5;124m\"\u001b[39m\u001b[38;5;124mjanasainikas\u001b[39m\u001b[38;5;124m\"\u001b[39m)\n\u001b[1;32m----> 4\u001b[0m x[\u001b[38;5;241m1\u001b[39m]\u001b[38;5;241m=\u001b[39m\u001b[38;5;124m\"\u001b[39m\u001b[38;5;124mjagan movayya\u001b[39m\u001b[38;5;124m\"\u001b[39m\n\u001b[0;32m      5\u001b[0m \u001b[38;5;28mprint\u001b[39m(x)\n",
      "\u001b[1;31mTypeError\u001b[0m: 'tuple' object does not support item assignment"
     ]
    }
   ],
   "source": [
    "#Immutability\n",
    "\n",
    "x=(\"pawankalyan\",\"JSP\",\"deputy cm\",\"janasainikas\")\n",
    "x[1]=\"jagan movayya\"\n",
    "print(x)"
   ]
  },
  {
   "cell_type": "code",
   "execution_count": 9,
   "id": "c2cc9acd-10e9-41d0-9603-c60fe90981e6",
   "metadata": {},
   "outputs": [
    {
     "name": "stdout",
     "output_type": "stream",
     "text": [
      "Khyathi priscilla chebathini\n",
      "(3, 5, 8, 0, 4, 'h', 'o', 'n', 'e', 'y')\n"
     ]
    }
   ],
   "source": [
    "#Tuple operations\n",
    "#Concatenation\n",
    "a=(\"Khyathi\")\n",
    "b=(\" priscilla\")\n",
    "c=(\" chebathini\")\n",
    "x=a+b+c\n",
    "print(x)\n",
    "a1=(3,5,8,0,4)\n",
    "b1=('h','o','n','e','y')\n",
    "x1=a1+b1\n",
    "print(x1)"
   ]
  },
  {
   "cell_type": "code",
   "execution_count": 12,
   "id": "1213e1eb-0590-424b-9104-1acdb43088b7",
   "metadata": {},
   "outputs": [
    {
     "name": "stdout",
     "output_type": "stream",
     "text": [
      "('K', 'e', 'v', 'i', 'n', 'K', 'e', 'v', 'i', 'n', 'K', 'e', 'v', 'i', 'n', 'K', 'e', 'v', 'i', 'n', 'K', 'e', 'v', 'i', 'n', 'K', 'e', 'v', 'i', 'n', 'K', 'e', 'v', 'i', 'n')\n",
      "(23, 54, 46, 87, 93, 24, 23, 54, 46, 87, 93, 24, 23, 54, 46, 87, 93, 24, 23, 54, 46, 87, 93, 24, 23, 54, 46, 87, 93, 24, 23, 54, 46, 87, 93, 24, 23, 54, 46, 87, 93, 24, 23, 54, 46, 87, 93, 24, 23, 54, 46, 87, 93, 24, 23, 54, 46, 87, 93, 24, 23, 54, 46, 87, 93, 24)\n"
     ]
    }
   ],
   "source": [
    "#repetition\n",
    "x=('K','e','v','i','n')\n",
    "result=x*7\n",
    "print(result)\n",
    "y=23,54,46,87,93,24\n",
    "result=y*11\n",
    "print(result)"
   ]
  },
  {
   "cell_type": "code",
   "execution_count": 22,
   "id": "11924230-b010-4d77-8f54-f4bbe03a44f5",
   "metadata": {},
   "outputs": [
    {
     "name": "stdout",
     "output_type": "stream",
     "text": [
      "4\n"
     ]
    }
   ],
   "source": [
    "#tuple methods\n",
    "#count\n",
    "x=10,11,10,12,17,10,19,10\n",
    "count_of_10=x.count(10)\n",
    "print(count_of_10)"
   ]
  },
  {
   "cell_type": "code",
   "execution_count": 23,
   "id": "97cd2de2-5e65-4b1f-9105-6eac7435489b",
   "metadata": {},
   "outputs": [
    {
     "name": "stdout",
     "output_type": "stream",
     "text": [
      "3\n"
     ]
    }
   ],
   "source": [
    "#index\n",
    "x=6,9,0,3,6,1,4\n",
    "index_of_0=x.index(3)\n",
    "print(index_of_0)"
   ]
  },
  {
   "cell_type": "code",
   "execution_count": 24,
   "id": "03782930-76fe-4ce7-8854-505fdedbe37a",
   "metadata": {},
   "outputs": [
    {
     "name": "stdout",
     "output_type": "stream",
     "text": [
      "10\n",
      "7\n"
     ]
    }
   ],
   "source": [
    "#len\n",
    "a=(1,2,3,4,5,6,7,8,9,0)\n",
    "print(len(a))\n",
    "b=('a','b','c','d','e','f','g')\n",
    "print(len(b))"
   ]
  },
  {
   "cell_type": "code",
   "execution_count": 25,
   "id": "3c45016c-ecdb-41bd-b184-70459b34783a",
   "metadata": {},
   "outputs": [
    {
     "name": "stdout",
     "output_type": "stream",
     "text": [
      "11\n",
      "12\n",
      "13\n",
      "14\n",
      "15\n"
     ]
    }
   ],
   "source": [
    "#tuple unpacking\n",
    "x=(11,12,13,14,15)\n",
    "a,b,c,d,e=x\n",
    "print(a)\n",
    "print(b)\n",
    "print(c)\n",
    "print(d)\n",
    "print(e)"
   ]
  },
  {
   "cell_type": "code",
   "execution_count": 26,
   "id": "49a4dd5f-d44e-4414-83b8-060c28b7a091",
   "metadata": {},
   "outputs": [
    {
     "name": "stdout",
     "output_type": "stream",
     "text": [
      "(0, 1, 2, 3, 4, 5, 6, 7)\n"
     ]
    }
   ],
   "source": [
    "#concatenating tuples\n",
    "x=(0,1,2,3)\n",
    "y=(4,5,6,7)\n",
    "z=x+y\n",
    "print(z)"
   ]
  },
  {
   "cell_type": "code",
   "execution_count": 27,
   "id": "8b75539a-eb61-4cc1-bb28-0a4baa82f74b",
   "metadata": {},
   "outputs": [
    {
     "name": "stdout",
     "output_type": "stream",
     "text": [
      "('e', 'y', 'i', 's', 'b')\n"
     ]
    }
   ],
   "source": [
    "#slicing tuples\n",
    "x=('h','o','n','e','y','i','s','b','e','s','t')\n",
    "print(x[3:8])"
   ]
  },
  {
   "cell_type": "code",
   "execution_count": null,
   "id": "da7915e2-0acf-4b5a-86ad-537924a4f5e6",
   "metadata": {},
   "outputs": [],
   "source": []
  }
 ],
 "metadata": {
  "kernelspec": {
   "display_name": "Python 3 (ipykernel)",
   "language": "python",
   "name": "python3"
  },
  "language_info": {
   "codemirror_mode": {
    "name": "ipython",
    "version": 3
   },
   "file_extension": ".py",
   "mimetype": "text/x-python",
   "name": "python",
   "nbconvert_exporter": "python",
   "pygments_lexer": "ipython3",
   "version": "3.12.4"
  }
 },
 "nbformat": 4,
 "nbformat_minor": 5
}
