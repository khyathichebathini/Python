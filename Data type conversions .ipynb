{
 "cells": [
  {
   "cell_type": "code",
   "execution_count": 7,
   "id": "d59da545-1c07-4918-ad8f-ebbfcec14ddf",
   "metadata": {},
   "outputs": [
    {
     "name": "stdout",
     "output_type": "stream",
     "text": [
      "11\n",
      "22\n",
      "33\n",
      "44\n",
      "55\n",
      "66\n",
      "77\n"
     ]
    }
   ],
   "source": [
    "a=11\n",
    "b=22\n",
    "c=33\n",
    "d=44\n",
    "e=55\n",
    "f=66\n",
    "g=77\n",
    "print(a)\n",
    "print(b)\n",
    "print(c)\n",
    "print(d)\n",
    "print(e)\n",
    "print(f)\n",
    "print(g)"
   ]
  },
  {
   "cell_type": "code",
   "execution_count": 9,
   "id": "745759e0-f075-463e-a70e-35805e6d9a92",
   "metadata": {},
   "outputs": [
    {
     "name": "stdout",
     "output_type": "stream",
     "text": [
      "1.1\n",
      "2.2\n",
      "3.3\n",
      "4.4\n",
      "5.5\n",
      "6.6\n",
      "7.7\n"
     ]
    }
   ],
   "source": [
    "A=1.1\n",
    "B=2.2\n",
    "C=3.3\n",
    "D=4.4\n",
    "E=5.5\n",
    "F=6.6\n",
    "G=7.7\n",
    "print(A)\n",
    "print(B)\n",
    "print(C)\n",
    "print(D)\n",
    "print(E)\n",
    "print(F)\n",
    "print(G)\n"
   ]
  },
  {
   "cell_type": "code",
   "execution_count": 15,
   "id": "7e33bd9d-a03e-45d4-8116-71e7e37bd9cc",
   "metadata": {},
   "outputs": [
    {
     "name": "stdout",
     "output_type": "stream",
     "text": [
      "(1+1j)\n",
      "(2+2j)\n",
      "(3+3j)\n",
      "(4+4j)\n",
      "(5+5j)\n",
      "(6+6j)\n",
      "(7+7j)\n"
     ]
    }
   ],
   "source": [
    "_a=1+1j\n",
    "_b=2+2j\n",
    "_c=3+3j\n",
    "_d=4+4j\n",
    "_e=5+5j\n",
    "_f=6+6j\n",
    "_g=7+7j\n",
    "print(_a)\n",
    "print(_b)\n",
    "print(_c)\n",
    "print(_d)\n",
    "print(_e)\n",
    "print(_f)\n",
    "print(_g)"
   ]
  },
  {
   "cell_type": "code",
   "execution_count": 1,
   "id": "4eca14c1-e795-401d-b9f7-a59965934479",
   "metadata": {},
   "outputs": [
    {
     "name": "stdout",
     "output_type": "stream",
     "text": [
      "<class 'int'>\n",
      "<class 'float'>\n",
      "<class 'complex'>\n"
     ]
    }
   ],
   "source": [
    "a=14\n",
    "b=14.1\n",
    "c=14j\n",
    "print(type(a))\n",
    "print(type(b))\n",
    "print(type(c))\n"
   ]
  },
  {
   "cell_type": "code",
   "execution_count": 3,
   "id": "52aa13af-1986-422f-8e43-90e7d487bdf7",
   "metadata": {},
   "outputs": [
    {
     "name": "stdout",
     "output_type": "stream",
     "text": [
      "<class 'int'>\n",
      "<class 'float'>\n",
      "<class 'complex'>\n"
     ]
    }
   ],
   "source": [
    "k=66\n",
    "l=66.6\n",
    "m=66+6j\n",
    "print(type(k))\n",
    "print(type(l))\n",
    "print(type(m))\n"
   ]
  },
  {
   "cell_type": "code",
   "execution_count": 21,
   "id": "bd48f1ef-34ba-47d3-8491-ee5cb66dfefb",
   "metadata": {},
   "outputs": [
    {
     "name": "stdout",
     "output_type": "stream",
     "text": [
      "54.0\n",
      "54\n",
      "(54+0j)\n",
      "(54.54+0j)\n"
     ]
    }
   ],
   "source": [
    "x=54\n",
    "y=54.54\n",
    "z=54+54j\n",
    "a=float(x)\n",
    "b=int(y)\n",
    "c=complex(x)\n",
    "d=complex(y)\n",
    "print(a)\n",
    "print(b)\n",
    "print(c)\n",
    "print(d)"
   ]
  },
  {
   "cell_type": "code",
   "execution_count": 25,
   "id": "1a59eb59-2d21-4f3f-b29f-5313af5d58fd",
   "metadata": {},
   "outputs": [
    {
     "name": "stdout",
     "output_type": "stream",
     "text": [
      "99.0\n",
      "99\n",
      "(99+0j)\n",
      "(99.1+0j)\n"
     ]
    }
   ],
   "source": [
    "a=99\n",
    "b=99.1\n",
    "c=99+91j\n",
    "k=float(a)\n",
    "l=int(b)\n",
    "m=complex(a)\n",
    "n=complex(b)\n",
    "print(k)\n",
    "print(l)\n",
    "print(m)\n",
    "print(n)"
   ]
  },
  {
   "cell_type": "code",
   "execution_count": 27,
   "id": "715202ce-3f79-40a7-ab19-06688d9915c1",
   "metadata": {},
   "outputs": [
    {
     "ename": "TypeError",
     "evalue": "float() argument must be a string or a real number, not 'complex'",
     "output_type": "error",
     "traceback": [
      "\u001b[1;31m---------------------------------------------------------------------------\u001b[0m",
      "\u001b[1;31mTypeError\u001b[0m                                 Traceback (most recent call last)",
      "Cell \u001b[1;32mIn[27], line 5\u001b[0m\n\u001b[0;32m      3\u001b[0m _z\u001b[38;5;241m=\u001b[39m\u001b[38;5;241m18\u001b[39m\u001b[38;5;241m+\u001b[39m\u001b[38;5;241m18\u001b[39mj\n\u001b[0;32m      4\u001b[0m x\u001b[38;5;241m=\u001b[39m\u001b[38;5;28mfloat\u001b[39m(_y)\n\u001b[1;32m----> 5\u001b[0m y\u001b[38;5;241m=\u001b[39m\u001b[38;5;28mfloat\u001b[39m(_z)\n\u001b[0;32m      6\u001b[0m z\u001b[38;5;241m=\u001b[39m\u001b[38;5;28mint\u001b[39m(_z)\n\u001b[0;32m      7\u001b[0m \u001b[38;5;28mprint\u001b[39m(x)\n",
      "\u001b[1;31mTypeError\u001b[0m: float() argument must be a string or a real number, not 'complex'"
     ]
    }
   ],
   "source": [
    "_x=18\n",
    "_y=18.1\n",
    "_z=18+18j\n",
    "x=float(_y)\n",
    "y=float(_z)\n",
    "z=int(_z)\n",
    "print(x)\n",
    "print(y)\n",
    "print(z)"
   ]
  },
  {
   "cell_type": "code",
   "execution_count": null,
   "id": "44af4d1a-238a-4916-a2ed-041884770c66",
   "metadata": {},
   "outputs": [],
   "source": [
    "a=16\n",
    "b=16j\n",
    "c=16.11\n",
    "x=float(b)\n",
    "y=int(b)\n",
    "print(x)\n",
    "p"
   ]
  }
 ],
 "metadata": {
  "kernelspec": {
   "display_name": "Python 3 (ipykernel)",
   "language": "python",
   "name": "python3"
  },
  "language_info": {
   "codemirror_mode": {
    "name": "ipython",
    "version": 3
   },
   "file_extension": ".py",
   "mimetype": "text/x-python",
   "name": "python",
   "nbconvert_exporter": "python",
   "pygments_lexer": "ipython3",
   "version": "3.12.4"
  }
 },
 "nbformat": 4,
 "nbformat_minor": 5
}
