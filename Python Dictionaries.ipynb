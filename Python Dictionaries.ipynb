{
 "cells": [
  {
   "cell_type": "code",
   "execution_count": 28,
   "id": "7eb6169f-a00c-4db6-aff8-9646a89d8dd4",
   "metadata": {},
   "outputs": [
    {
     "name": "stdout",
     "output_type": "stream",
     "text": [
      "{}\n"
     ]
    }
   ],
   "source": [
    "#empty_dict\n",
    "empty_dict={ }\n",
    "print(empty_dict)"
   ]
  },
  {
   "cell_type": "code",
   "execution_count": 31,
   "id": "76bd17ed-ca89-4321-b646-8f7797f83f10",
   "metadata": {},
   "outputs": [
    {
     "name": "stdout",
     "output_type": "stream",
     "text": [
      "{'name': 'honey', 'age': '20', 'grade': '92,93,97'}\n"
     ]
    }
   ],
   "source": [
    "mixed_dict={'name':'honey','age':'20','grade':'92,93,97'}\n",
    "print(mixed_dict)\n"
   ]
  },
  {
   "cell_type": "code",
   "execution_count": 35,
   "id": "c8eb2717-4809-4d81-9836-9fd4b1d04831",
   "metadata": {},
   "outputs": [
    {
     "name": "stdout",
     "output_type": "stream",
     "text": [
      "Hofstra\n",
      "honey\n",
      "MBA\n"
     ]
    }
   ],
   "source": [
    "#Accessing values\n",
    "student={'name':'honey','class':'MBA','college':'Hofstra'}\n",
    "print(student['college'])\n",
    "print(student['name'])\n",
    "print(student['class'])\n"
   ]
  },
  {
   "cell_type": "code",
   "execution_count": 42,
   "id": "f6be664a-00a1-49c0-985e-e86b8de89d57",
   "metadata": {},
   "outputs": [
    {
     "name": "stdout",
     "output_type": "stream",
     "text": [
      "{'name': 'Khyathi', 'class': 'MBA', 'college': 'Hofstra', 'age': '21', 'gender': 'Female'}\n",
      "{'name': 'Khyathi', 'class': 'MBA', 'college': 'Hofstra', 'age': '21', 'gender': 'Female'}\n",
      "{'name': 'honey', 'class': 'MBA', 'college': 'Hofstra', 'age': '20', 'marks': ['90,95,97'], 'grades': ['A+', 'A+', 'A+'], 'subject': ['Maths', 'Physics', 'Chemistry']}\n",
      "{'name': 'honey', 'class': 'MBA', 'college': 'Hofstra', 'age': '20', 'marks': ['90,95,97'], 'grades': ['A+', 'A+', 'A+'], 'subject': ['Maths', 'Physics', 'Chemistry']}\n",
      "{'name': 'Khyathi', 'class': 'MBA', 'college': 'Hofstra', 'age': '21', 'gender': 'Female'}\n",
      "{'name': 'honey', 'class': 'MBA', 'college': 'Hofstra', 'age': '20', 'marks': ['90,95,97'], 'grades': ['A+', 'A+', 'A+'], 'subject': ['Maths', 'Physics', 'Chemistry']}\n"
     ]
    }
   ],
   "source": [
    "#modifying and adding values\n",
    "student['age']='21'\n",
    "student['name']='Khyathi'\n",
    "mixed_dict['marks']=['90,95,97']\n",
    "mixed_dict['grades']=['A+','A+','A+']\n",
    "print(student)\n",
    "print(student)\n",
    "print(mixed_dict)\n",
    "print(mixed_dict)\n",
    "student['gender']=\"Female\"\n",
    "mixed_dict['subject']=['Maths','Physics','Chemistry']\n",
    "print(student)\n",
    "print(mixed_dict)"
   ]
  },
  {
   "cell_type": "code",
   "execution_count": 44,
   "id": "a70540be-a38c-4a6f-9df9-736fe0bdc490",
   "metadata": {},
   "outputs": [
    {
     "name": "stdout",
     "output_type": "stream",
     "text": [
      "80,000\n",
      "15 plus\n",
      "iphone\n"
     ]
    }
   ],
   "source": [
    "#Dictionary methods\n",
    "#1.get\n",
    "x={\"brand\":\"iphone\",\n",
    "   \"series\":\"15 plus\",\n",
    "   \"price\":\"80,000\",\n",
    "   \"colour\":\"pink\" \n",
    "  }\n",
    "y=x.get(\"price\")\n",
    "print(y)\n",
    "z=x.get(\"series\")\n",
    "print(z)\n",
    "a=x.get(\"brand\")\n",
    "print(a)"
   ]
  },
  {
   "cell_type": "code",
   "execution_count": 45,
   "id": "33776e32-289e-4b4c-ad73-6bf8ad01342e",
   "metadata": {},
   "outputs": [
    {
     "name": "stdout",
     "output_type": "stream",
     "text": [
      "dict_keys(['brand', 'item', 'price range', 'colour'])\n"
     ]
    }
   ],
   "source": [
    "#2.key\n",
    "y={'brand':'zara',\n",
    "   'item':'baggy clothes',\n",
    "   'price range':'1500-2000',\n",
    "   'colour':'beige'}\n",
    "\n",
    "x=y.keys()\n",
    "print(x)"
   ]
  },
  {
   "cell_type": "code",
   "execution_count": 47,
   "id": "74f7710f-514f-41b1-a55e-b358b836e246",
   "metadata": {},
   "outputs": [
    {
     "name": "stdout",
     "output_type": "stream",
     "text": [
      "dict_values(['honey', 'MBA', 'Hofstra', '20', ['90,95,97'], ['A+', 'A+', 'A+'], ['Maths', 'Physics', 'Chemistry']])\n",
      "dict_values(['Khyathi', 'MBA', 'Hofstra', '21', 'Female'])\n"
     ]
    }
   ],
   "source": [
    "#3.values\n",
    "z=mixed_dict.values( )\n",
    "print(z)\n",
    "z1=student.values( )\n",
    "print(z1)"
   ]
  },
  {
   "cell_type": "code",
   "execution_count": 48,
   "id": "16566379-0ed3-446b-8df4-b77605309c40",
   "metadata": {},
   "outputs": [
    {
     "name": "stdout",
     "output_type": "stream",
     "text": [
      "dict_items([('brand', 'zara'), ('item', 'baggy clothes'), ('price range', '1500-2000'), ('colour', 'beige')])\n",
      "dict_items([('brand', 'iphone'), ('series', '15 plus'), ('price', '80,000'), ('colour', 'pink')])\n"
     ]
    }
   ],
   "source": [
    "#4.items\n",
    "y={'brand':'zara',\n",
    "   'item':'baggy clothes',\n",
    "   'price range':'1500-2000',\n",
    "   'colour':'beige'}\n",
    "\n",
    "x={\"brand\":\"iphone\",\n",
    "   \"series\":\"15 plus\",\n",
    "   \"price\":\"80,000\",\n",
    "   \"colour\":\"pink\" }\n",
    "\n",
    "y1=y.items( )\n",
    "print(y1)\n",
    "x1=x.items( )\n",
    "print(x1)"
   ]
  },
  {
   "cell_type": "code",
   "execution_count": 49,
   "id": "b35b8bfa-b6ae-40c7-94a6-1942ce8d7b8b",
   "metadata": {},
   "outputs": [
    {
     "name": "stdout",
     "output_type": "stream",
     "text": [
      "92,93,97\n",
      "Hofstra\n"
     ]
    }
   ],
   "source": [
    "#5 pop\n",
    "mixed_dict={'name':'honey','age':'20','grade':'92,93,97'}\n",
    "student={'name':'honey','class':'MBA','college':'Hofstra'}\n",
    "grade=mixed_dict.pop('grade')\n",
    "print(grade)\n",
    "college=student.pop('college')\n",
    "print(college)"
   ]
  },
  {
   "cell_type": "code",
   "execution_count": 50,
   "id": "7d9a5b19-1962-468f-9317-ef8c63ce1129",
   "metadata": {},
   "outputs": [
    {
     "name": "stdout",
     "output_type": "stream",
     "text": [
      "('grade', '92,93,97')\n",
      "('college', 'Hofstra')\n"
     ]
    }
   ],
   "source": [
    "#6 pop item\n",
    "mixed_dict={'name':'honey','age':'20','grade':'92,93,97'}\n",
    "last_item=mixed_dict.popitem( )\n",
    "print(last_item)\n",
    "student={'name':'honey','class':'MBA','college':'Hofstra'}\n",
    "lastitem=student.popitem( )\n",
    "print(lastitem)"
   ]
  },
  {
   "cell_type": "code",
   "execution_count": 53,
   "id": "aa0ba401-3c56-48c3-97e1-6028fb2d0d13",
   "metadata": {},
   "outputs": [
    {
     "ename": "IndentationError",
     "evalue": "unexpected indent (873104783.py, line 6)",
     "output_type": "error",
     "traceback": [
      "\u001b[1;36m  Cell \u001b[1;32mIn[53], line 6\u001b[1;36m\u001b[0m\n\u001b[1;33m    x1=x.update(new_data)\u001b[0m\n\u001b[1;37m    ^\u001b[0m\n\u001b[1;31mIndentationError\u001b[0m\u001b[1;31m:\u001b[0m unexpected indent\n"
     ]
    }
   ],
   "source": [
    "#7 update\n",
    "x={'bhavana':'business analytics',\n",
    "'khyathi':'business analytics',\n",
    "'keerthi':'human resources'}\n",
    "new_data={'bhavana':'investment banking'}\n",
    "          x1=x.update(new_data)\n",
    "print(x1)"
   ]
  },
  {
   "cell_type": "code",
   "execution_count": null,
   "id": "ae552a57-ec0e-4688-ab61-d27d66e83f4b",
   "metadata": {},
   "outputs": [],
   "source": []
  }
 ],
 "metadata": {
  "kernelspec": {
   "display_name": "Python 3 (ipykernel)",
   "language": "python",
   "name": "python3"
  },
  "language_info": {
   "codemirror_mode": {
    "name": "ipython",
    "version": 3
   },
   "file_extension": ".py",
   "mimetype": "text/x-python",
   "name": "python",
   "nbconvert_exporter": "python",
   "pygments_lexer": "ipython3",
   "version": "3.12.4"
  }
 },
 "nbformat": 4,
 "nbformat_minor": 5
}
