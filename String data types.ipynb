{
 "cells": [
  {
   "cell_type": "code",
   "execution_count": 66,
   "id": "5078f00a-f299-46a3-9d16-66b4e4b2126a",
   "metadata": {},
   "outputs": [
    {
     "name": "stdout",
     "output_type": "stream",
     "text": [
      "T20 world cup\n",
      "welcome to hyderabad railway station\n"
     ]
    }
   ],
   "source": [
    "#Concatenation\n",
    "str1=\"T20 \"\n",
    "str2=\"world \"\n",
    "str3=\"cup\"\n",
    "x=str1+str2+str3\n",
    "print(x)\n",
    "\n",
    "x=\"welcome to \"\n",
    "y=\"hyderabad \"\n",
    "z=\"railway station\"\n",
    "a=x+y+z\n",
    "print(a)\n"
   ]
  },
  {
   "cell_type": "code",
   "execution_count": 70,
   "id": "275ada6e-9feb-42f9-9949-3b5b656817fc",
   "metadata": {},
   "outputs": [
    {
     "name": "stdout",
     "output_type": "stream",
     "text": [
      "Sale going on! Sale going on! Sale going on! Sale going on! Sale going on! Sale going on! Sale going on! Sale going on! Sale going on! Sale going on! Sale going on! Sale going on! \n",
      "We are hiring!! We are hiring!! We are hiring!! We are hiring!! We are hiring!! We are hiring!! We are hiring!! We are hiring!! We are hiring!! We are hiring!! We are hiring!! We are hiring!! We are hiring!! We are hiring!! We are hiring!! We are hiring!! We are hiring!! We are hiring!! We are hiring!! We are hiring!! We are hiring!! We are hiring!! We are hiring!! We are hiring!! We are hiring!! We are hiring!! We are hiring!! We are hiring!! We are hiring!! We are hiring!! We are hiring!! We are hiring!! We are hiring!! We are hiring!! We are hiring!! We are hiring!! We are hiring!! We are hiring!! We are hiring!! We are hiring!! We are hiring!! We are hiring!! We are hiring!! We are hiring!! We are hiring!! We are hiring!! We are hiring!! We are hiring!! We are hiring!! We are hiring!! We are hiring!! We are hiring!! We are hiring!! We are hiring!! We are hiring!! We are hiring!! We are hiring!! We are hiring!! We are hiring!! We are hiring!! We are hiring!! We are hiring!! We are hiring!! We are hiring!! We are hiring!! We are hiring!! We are hiring!! We are hiring!! We are hiring!! We are hiring!! We are hiring!! We are hiring!! We are hiring!! We are hiring!! We are hiring!! We are hiring!! We are hiring!! We are hiring!! We are hiring!! We are hiring!! We are hiring!! We are hiring!! We are hiring!! We are hiring!! We are hiring!! We are hiring!! We are hiring!! We are hiring!! We are hiring!! We are hiring!! We are hiring!! We are hiring!! We are hiring!! We are hiring!! We are hiring!! We are hiring!! We are hiring!! We are hiring!! We are hiring!! We are hiring!! \n"
     ]
    }
   ],
   "source": [
    "#repetition\n",
    "x=\"Sale going on! \"\n",
    "y=x*12\n",
    "print(y)\n",
    "\n",
    "a=\"We are hiring!! \"\n",
    "b=a*100\n",
    "print(b)\n",
    "\n"
   ]
  },
  {
   "cell_type": "code",
   "execution_count": 73,
   "id": "d3eca093-31f0-44aa-8ab4-b8a624047994",
   "metadata": {},
   "outputs": [
    {
     "name": "stdout",
     "output_type": "stream",
     "text": [
      " \n",
      "t\n",
      "i\n",
      "p\n"
     ]
    }
   ],
   "source": [
    "#indexing\n",
    "my_string=\" dfh default error \"\n",
    "print(my_string[4])\n",
    "print(my_string[-8])\n",
    "y=\"khyathi priscilla \"\n",
    "print(y[6])\n",
    "print(y[-10])\n"
   ]
  },
  {
   "cell_type": "code",
   "execution_count": 78,
   "id": "7fe091c3-2d84-4d84-b27d-762e39e1bec6",
   "metadata": {},
   "outputs": [
    {
     "name": "stdout",
     "output_type": "stream",
     "text": [
      "on_forma\n",
      "en trav\n"
     ]
    }
   ],
   "source": [
    "#slicing\n",
    "x=\"python_format_strings\"\n",
    "y=x[4:12]\n",
    "print(y)\n",
    "a=\"the teen travellers \"\n",
    "b=a[6:13]\n",
    "print(b)"
   ]
  },
  {
   "cell_type": "code",
   "execution_count": 98,
   "id": "b57cfab7-49be-4f11-b488-b55353a18e31",
   "metadata": {},
   "outputs": [
    {
     "name": "stdout",
     "output_type": "stream",
     "text": [
      " I was 13 years old when I went to banglore.\n",
      "my name is honey and i am 21 years old.\n"
     ]
    }
   ],
   "source": [
    "#Python_format_strings\n",
    "#(1)Old style formatting\n",
    "age=13\n",
    "location=\"banglore\"\n",
    "formatted_string =\" I was %d years old when I went to %s.\" %(age,location)\n",
    "print(formatted_string)\n",
    "\n",
    "\n",
    "name = \"honey\"\n",
    "age = 21\n",
    "formatted_string = \"my name is %s and i am %d years old.\"%(name,age)\n",
    "print(formatted_string)\n"
   ]
  },
  {
   "cell_type": "code",
   "execution_count": 111,
   "id": "43b4c31b-23e0-4cbd-95bf-8dc974a239f1",
   "metadata": {},
   "outputs": [
    {
     "name": "stdout",
     "output_type": "stream",
     "text": [
      " Virat kohli scored 183 in last match\n",
      "My friend rahul has been working as a manager in deloitte for the past 5 years\n"
     ]
    }
   ],
   "source": [
    "#(2) Format method\n",
    "name= \"Virat kohli\"\n",
    "runs= 183\n",
    "formatted_string=\" {} scored {} in last match\". format(name,runs)\n",
    "print(formatted_string)\n",
    "\n",
    "name=\"rahul\"\n",
    "company=\"deloitte\"\n",
    "years=5\n",
    "formatted_string=\"My friend {} has been working as a manager in {} for the past {} years\". format(name,company,years)\n",
    "print(formatted_string)      \n"
   ]
  },
  {
   "cell_type": "code",
   "execution_count": 113,
   "id": "85ed4e34-a6c8-49a5-9f24-9969c9333da3",
   "metadata": {},
   "outputs": [
    {
     "name": "stdout",
     "output_type": "stream",
     "text": [
      "My friend rahul has been working as a manager in deloitte for the past 5 years\n",
      "I went to market to buy meat\n"
     ]
    }
   ],
   "source": [
    "#(3) String interpretation\n",
    "name=\"rahul\"\n",
    "company=\"deloitte\"\n",
    "years=5\n",
    "formatted_string=f\"My friend {name} has been working as a manager in {company} for the past {years} years\". format(name,company,years)\n",
    "print(formatted_string)      \n",
    "\n",
    "place=\"market\"\n",
    "item=\"meat\"\n",
    "formatted_string=f\"I went to {place} to buy {item}\"\n",
    "print(formatted_string)\n",
    "\n"
   ]
  },
  {
   "cell_type": "code",
   "execution_count": 116,
   "id": "f9f45520-9bfb-472d-9532-ef79cef6c578",
   "metadata": {},
   "outputs": [
    {
     "name": "stdout",
     "output_type": "stream",
     "text": [
      "12\n",
      "17\n",
      "31\n"
     ]
    }
   ],
   "source": [
    "#String methods\n",
    "#1 len\n",
    "x=\"Teks academy\"\n",
    "length=len(x)\n",
    "print(length)\n",
    "y=\"Khyathi priscilla\"\n",
    "length=len(y)\n",
    "print(length)\n",
    "z=\"India won T20 2024 world cup!!!\"\n",
    "length=len(z)\n",
    "print(length)\n"
   ]
  },
  {
   "cell_type": "code",
   "execution_count": 120,
   "id": "5a6c2ab7-a9aa-4385-a654-83dcd0b51cf0",
   "metadata": {},
   "outputs": [
    {
     "name": "stdout",
     "output_type": "stream",
     "text": [
      "WASHINGTON DC\n",
      "BHAVANA AND KHYATHI ARE FRIENDS SINCE UG\n",
      "a,b,c,d,e,f\n",
      "string methods\n"
     ]
    }
   ],
   "source": [
    "#2 lower/upper case\n",
    "a=\"washington dc\"\n",
    "print(a.upper())\n",
    "b=\"bhavana and khyathi are friends since ug\"\n",
    "print(b.upper())\n",
    "\n",
    "c=\"A,B,C,D,E,F\"\n",
    "print(c.lower())\n",
    "d=\"STRING METHODS\"\n",
    "print(d.lower())"
   ]
  },
  {
   "cell_type": "code",
   "execution_count": 121,
   "id": "3f8cc9ed-f0fe-47ec-ba25-5a1da2cbe82e",
   "metadata": {},
   "outputs": [
    {
     "name": "stdout",
     "output_type": "stream",
     "text": [
      "America\n",
      "1466,9876,45678,987654\n"
     ]
    }
   ],
   "source": [
    "#3 Strip\n",
    "x=\"   America   \"\n",
    "stripped_strip=x.strip()\n",
    "print(stripped_strip)\n",
    "y=\"    1466,9876,45678,987654      \"\n",
    "stripped_strip=y.strip()\n",
    "print(stripped_strip)\n"
   ]
  },
  {
   "cell_type": "code",
   "execution_count": 125,
   "id": "23f20a06-3e3a-45b4-9b3d-3aa2a697330d",
   "metadata": {},
   "outputs": [
    {
     "name": "stdout",
     "output_type": "stream",
     "text": [
      "best of all time\n",
      "XOXO! Gossip boy\n"
     ]
    }
   ],
   "source": [
    "#4 replace\n",
    "a=\"greatest of all time\"\n",
    "b=a.replace(\"greatest\",\"best\")\n",
    "print(b)\n",
    "x=\"XOXO! Gossip girl\"\n",
    "y=x.replace(\"girl\",\"boy\")\n",
    "print(y)"
   ]
  },
  {
   "cell_type": "code",
   "execution_count": 126,
   "id": "0df08bcd-f8e0-475e-b0b8-2039ca08714a",
   "metadata": {},
   "outputs": [
    {
     "name": "stdout",
     "output_type": "stream",
     "text": [
      "['Organisation', 'needs', 'to', 'works', 'in', 'a', 'well-organised', 'way']\n",
      "['HR', 'is', 'key', 'for', 'communication', 'in', 'an', 'organsation']\n"
     ]
    }
   ],
   "source": [
    "#5 split\n",
    "\n",
    "a=\"Organisation needs to works in a well-organised way \"\n",
    "words=a.split()\n",
    "print(words)\n",
    "b=\"HR is key for communication in an organsation\"\n",
    "words=b.split()\n",
    "print(words)"
   ]
  },
  {
   "cell_type": "code",
   "execution_count": 128,
   "id": "b694cde4-75a4-400d-a30f-9558c6360f77",
   "metadata": {},
   "outputs": [
    {
     "name": "stdout",
     "output_type": "stream",
     "text": [
      "It is easy to perform a group task\n"
     ]
    }
   ],
   "source": [
    "#6 join\n",
    "\n",
    "a=['It','is','easy','to','perform','a','group','task']\n",
    "joined_string=' '.join(a)\n",
    "print(joined_string)\n",
    "b=['he','is','not','just','a','king','he'"
   ]
  },
  {
   "cell_type": "code",
   "execution_count": null,
   "id": "d260ad51-41f5-41bb-98aa-d911b31978bd",
   "metadata": {},
   "outputs": [],
   "source": []
  }
 ],
 "metadata": {
  "kernelspec": {
   "display_name": "Python 3 (ipykernel)",
   "language": "python",
   "name": "python3"
  },
  "language_info": {
   "codemirror_mode": {
    "name": "ipython",
    "version": 3
   },
   "file_extension": ".py",
   "mimetype": "text/x-python",
   "name": "python",
   "nbconvert_exporter": "python",
   "pygments_lexer": "ipython3",
   "version": "3.12.4"
  }
 },
 "nbformat": 4,
 "nbformat_minor": 5
}
